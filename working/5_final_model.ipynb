{
 "cells": [
  {
   "cell_type": "markdown",
   "metadata": {},
   "source": [
    "# Setup"
   ]
  },
  {
   "cell_type": "code",
   "execution_count": 1,
   "metadata": {},
   "outputs": [],
   "source": [
    "%load_ext autotime\n",
    "%matplotlib inline"
   ]
  },
  {
   "cell_type": "code",
   "execution_count": 2,
   "metadata": {},
   "outputs": [
    {
     "name": "stdout",
     "output_type": "stream",
     "text": [
      "time: 649 µs\n"
     ]
    }
   ],
   "source": [
    "import pickle"
   ]
  },
  {
   "cell_type": "code",
   "execution_count": 3,
   "metadata": {},
   "outputs": [
    {
     "name": "stdout",
     "output_type": "stream",
     "text": [
      "time: 414 ms\n"
     ]
    }
   ],
   "source": [
    "import numpy as np\n",
    "import pandas as pd\n",
    "import scipy as sp\n",
    "\n",
    "from scipy import stats"
   ]
  },
  {
   "cell_type": "markdown",
   "metadata": {},
   "source": [
    "# Load the Data"
   ]
  },
  {
   "cell_type": "code",
   "execution_count": 4,
   "metadata": {},
   "outputs": [
    {
     "name": "stdout",
     "output_type": "stream",
     "text": [
      "time: 1.06 s\n"
     ]
    }
   ],
   "source": [
    "with open(\"data.pickle\", \"rb\") as f:\n",
    "    data = pickle.load(f)"
   ]
  },
  {
   "cell_type": "code",
   "execution_count": 5,
   "metadata": {},
   "outputs": [
    {
     "name": "stdout",
     "output_type": "stream",
     "text": [
      "time: 1.77 ms\n"
     ]
    }
   ],
   "source": [
    "X = data[\"X\"][:, 2:, :]\n",
    "y = data[\"y\"]\n",
    "names = data[\"names\"]"
   ]
  },
  {
   "cell_type": "markdown",
   "metadata": {},
   "source": [
    "# Normalize the Data"
   ]
  },
  {
   "cell_type": "code",
   "execution_count": 6,
   "metadata": {},
   "outputs": [
    {
     "name": "stdout",
     "output_type": "stream",
     "text": [
      "time: 86.6 ms\n"
     ]
    }
   ],
   "source": [
    "def normalize(X):\n",
    "    X_iqr = stats.iqr(X, axis=2, keepdims=True)\n",
    "    X_iqr = np.where(X_iqr == 0, np.ones_like(X_iqr), X_iqr)\n",
    "    X_median = np.median(X, axis=2, keepdims=True)\n",
    "    return ((X - X_median) / X_iqr / 2)"
   ]
  },
  {
   "cell_type": "code",
   "execution_count": 7,
   "metadata": {},
   "outputs": [
    {
     "name": "stdout",
     "output_type": "stream",
     "text": [
      "time: 10.6 s\n"
     ]
    }
   ],
   "source": [
    "X_normalized = normalize(X)"
   ]
  },
  {
   "cell_type": "markdown",
   "metadata": {},
   "source": [
    "# NN predictions"
   ]
  },
  {
   "cell_type": "code",
   "execution_count": 8,
   "metadata": {},
   "outputs": [
    {
     "data": {
      "text/html": [
       "<div>\n",
       "<style scoped>\n",
       "    .dataframe tbody tr th:only-of-type {\n",
       "        vertical-align: middle;\n",
       "    }\n",
       "\n",
       "    .dataframe tbody tr th {\n",
       "        vertical-align: top;\n",
       "    }\n",
       "\n",
       "    .dataframe thead th {\n",
       "        text-align: right;\n",
       "    }\n",
       "</style>\n",
       "<table border=\"1\" class=\"dataframe\">\n",
       "  <thead>\n",
       "    <tr style=\"text-align: right;\">\n",
       "      <th></th>\n",
       "      <th>Id</th>\n",
       "      <th>Attack</th>\n",
       "      <th>AttackHat</th>\n",
       "    </tr>\n",
       "  </thead>\n",
       "  <tbody>\n",
       "    <tr>\n",
       "      <th>0</th>\n",
       "      <td>0</td>\n",
       "      <td>0.0</td>\n",
       "      <td>0.644155</td>\n",
       "    </tr>\n",
       "    <tr>\n",
       "      <th>1</th>\n",
       "      <td>1</td>\n",
       "      <td>1.0</td>\n",
       "      <td>1.000000</td>\n",
       "    </tr>\n",
       "    <tr>\n",
       "      <th>2</th>\n",
       "      <td>2</td>\n",
       "      <td>0.0</td>\n",
       "      <td>0.694470</td>\n",
       "    </tr>\n",
       "    <tr>\n",
       "      <th>3</th>\n",
       "      <td>3</td>\n",
       "      <td>1.0</td>\n",
       "      <td>1.000000</td>\n",
       "    </tr>\n",
       "    <tr>\n",
       "      <th>4</th>\n",
       "      <td>4</td>\n",
       "      <td>0.0</td>\n",
       "      <td>0.350756</td>\n",
       "    </tr>\n",
       "  </tbody>\n",
       "</table>\n",
       "</div>"
      ],
      "text/plain": [
       "   Id  Attack  AttackHat\n",
       "0   0     0.0   0.644155\n",
       "1   1     1.0   1.000000\n",
       "2   2     0.0   0.694470\n",
       "3   3     1.0   1.000000\n",
       "4   4     0.0   0.350756"
      ]
     },
     "execution_count": 8,
     "metadata": {},
     "output_type": "execute_result"
    },
    {
     "name": "stdout",
     "output_type": "stream",
     "text": [
      "time: 12.5 ms\n"
     ]
    }
   ],
   "source": [
    "df_y = pd.read_csv(\"cnn.980.full.csv\")\n",
    "df_y.head()"
   ]
  },
  {
   "cell_type": "code",
   "execution_count": 9,
   "metadata": {},
   "outputs": [
    {
     "name": "stdout",
     "output_type": "stream",
     "text": [
      "time: 137 ms\n"
     ]
    }
   ],
   "source": [
    "from sklearn.metrics import roc_auc_score"
   ]
  },
  {
   "cell_type": "code",
   "execution_count": 10,
   "metadata": {},
   "outputs": [
    {
     "data": {
      "text/plain": [
       "0.9800495321959273"
      ]
     },
     "execution_count": 10,
     "metadata": {},
     "output_type": "execute_result"
    },
    {
     "name": "stdout",
     "output_type": "stream",
     "text": [
      "time: 105 ms\n"
     ]
    }
   ],
   "source": [
    "roc_auc_score(\n",
    "    df_y[~df_y.Attack.isnull()].Attack,\n",
    "    df_y[~df_y.Attack.isnull()].AttackHat,\n",
    ")"
   ]
  },
  {
   "cell_type": "code",
   "execution_count": 11,
   "metadata": {},
   "outputs": [
    {
     "name": "stdout",
     "output_type": "stream",
     "text": [
      "time: 87.5 ms\n"
     ]
    }
   ],
   "source": [
    "nn_pred = df_y.AttackHat.as_matrix()"
   ]
  },
  {
   "cell_type": "markdown",
   "metadata": {},
   "source": [
    "# Statistical features"
   ]
  },
  {
   "cell_type": "code",
   "execution_count": 12,
   "metadata": {},
   "outputs": [
    {
     "name": "stdout",
     "output_type": "stream",
     "text": [
      "time: 96.3 ms\n"
     ]
    }
   ],
   "source": [
    "def make_stat_features(X):\n",
    "    X_min = X.min(axis=2, keepdims=True)\n",
    "    X_max = X.max(axis=2, keepdims=True)\n",
    "    X_mean = X.mean(axis=2, keepdims=True)\n",
    "    X_ptp = X_max - X_min\n",
    "    X_std = X.std(axis=2, keepdims=True)\n",
    "    X_median = np.median(X, axis=2, keepdims=True)\n",
    "    X_iqr = stats.iqr(X, axis=2, keepdims=True)\n",
    "    X_mean_diff = np.abs(X - X_mean).max(axis=2, keepdims=True)\n",
    "    X_median_diff = np.abs(X - X_median).max(axis=2, keepdims=True)\n",
    "\n",
    "    raw_features = [\n",
    "        X_min,\n",
    "        X_max,\n",
    "        X_mean,\n",
    "        X_ptp,\n",
    "        X_std,\n",
    "        X_median,\n",
    "        X_iqr,\n",
    "        X_mean_diff,\n",
    "        X_median_diff,\n",
    "    ]\n",
    "\n",
    "    return np.hstack([\n",
    "        v.squeeze()\n",
    "        for v in raw_features\n",
    "    ])"
   ]
  },
  {
   "cell_type": "code",
   "execution_count": 13,
   "metadata": {},
   "outputs": [
    {
     "name": "stdout",
     "output_type": "stream",
     "text": [
      "time: 12.6 s\n"
     ]
    }
   ],
   "source": [
    "X_features_1 = make_stat_features(X)"
   ]
  },
  {
   "cell_type": "code",
   "execution_count": 14,
   "metadata": {},
   "outputs": [
    {
     "name": "stdout",
     "output_type": "stream",
     "text": [
      "time: 12.9 s\n"
     ]
    }
   ],
   "source": [
    "X_features_2 = make_stat_features(X_normalized)"
   ]
  },
  {
   "cell_type": "markdown",
   "metadata": {},
   "source": [
    "# Model"
   ]
  },
  {
   "cell_type": "code",
   "execution_count": 15,
   "metadata": {},
   "outputs": [
    {
     "name": "stdout",
     "output_type": "stream",
     "text": [
      "time: 3.55 ms\n"
     ]
    }
   ],
   "source": [
    "i_train = np.where((y[:, None] == ([0, 1])).max(axis=1))[0]\n",
    "i_test = np.where(~(y[:, None] == ([0, 1])).max(axis=1))[0]"
   ]
  },
  {
   "cell_type": "code",
   "execution_count": 16,
   "metadata": {},
   "outputs": [
    {
     "name": "stdout",
     "output_type": "stream",
     "text": [
      "time: 159 ms\n"
     ]
    }
   ],
   "source": [
    "from sklearn.model_selection import cross_val_score, cross_val_predict\n",
    "from sklearn.linear_model import LogisticRegression"
   ]
  },
  {
   "cell_type": "markdown",
   "metadata": {},
   "source": [
    "### Linear model"
   ]
  },
  {
   "cell_type": "markdown",
   "metadata": {},
   "source": [
    "Evaluation:"
   ]
  },
  {
   "cell_type": "code",
   "execution_count": 17,
   "metadata": {},
   "outputs": [
    {
     "data": {
      "text/plain": [
       "0.8649399877381626"
      ]
     },
     "execution_count": 17,
     "metadata": {},
     "output_type": "execute_result"
    },
    {
     "name": "stdout",
     "output_type": "stream",
     "text": [
      "time: 1.01 s\n"
     ]
    }
   ],
   "source": [
    "cross_val_score(\n",
    "    LogisticRegression(),\n",
    "    X_features_1[i_train],\n",
    "    y[i_train],\n",
    "    scoring=\"roc_auc\",\n",
    "    cv=5,\n",
    ").mean()"
   ]
  },
  {
   "cell_type": "code",
   "execution_count": 18,
   "metadata": {},
   "outputs": [
    {
     "data": {
      "text/plain": [
       "0.7684693925674401"
      ]
     },
     "execution_count": 18,
     "metadata": {},
     "output_type": "execute_result"
    },
    {
     "name": "stdout",
     "output_type": "stream",
     "text": [
      "time: 773 ms\n"
     ]
    }
   ],
   "source": [
    "cross_val_score(\n",
    "    LogisticRegression(),\n",
    "    X_features_2[i_train],\n",
    "    y[i_train],\n",
    "    scoring=\"roc_auc\",\n",
    "    cv=5,\n",
    ").mean()"
   ]
  },
  {
   "cell_type": "markdown",
   "metadata": {},
   "source": [
    "Out-of-fold predictions for train:"
   ]
  },
  {
   "cell_type": "code",
   "execution_count": 19,
   "metadata": {},
   "outputs": [
    {
     "name": "stdout",
     "output_type": "stream",
     "text": [
      "time: 970 ms\n"
     ]
    }
   ],
   "source": [
    "lr_pred_1_train = cross_val_predict(\n",
    "    LogisticRegression(),\n",
    "    X_features_1[i_train],\n",
    "    y[i_train],\n",
    "    cv=5,\n",
    "    method=\"predict_proba\"\n",
    ")[:, 1]"
   ]
  },
  {
   "cell_type": "code",
   "execution_count": 20,
   "metadata": {},
   "outputs": [
    {
     "name": "stdout",
     "output_type": "stream",
     "text": [
      "time: 791 ms\n"
     ]
    }
   ],
   "source": [
    "lr_pred_2_train = cross_val_predict(\n",
    "    LogisticRegression(),\n",
    "    X_features_2[i_train],\n",
    "    y[i_train],\n",
    "    cv=5,\n",
    "    method=\"predict_proba\"\n",
    ")[:, 1]"
   ]
  },
  {
   "cell_type": "markdown",
   "metadata": {},
   "source": [
    "Predictions for test:"
   ]
  },
  {
   "cell_type": "code",
   "execution_count": 21,
   "metadata": {},
   "outputs": [
    {
     "name": "stdout",
     "output_type": "stream",
     "text": [
      "time: 216 ms\n"
     ]
    }
   ],
   "source": [
    "lr_pred_1_test = LogisticRegression().fit(\n",
    "    X_features_1[i_train],\n",
    "    y[i_train],\n",
    ").predict_proba(X_features_1[i_test])[:, 1]"
   ]
  },
  {
   "cell_type": "code",
   "execution_count": 22,
   "metadata": {},
   "outputs": [
    {
     "name": "stdout",
     "output_type": "stream",
     "text": [
      "time: 181 ms\n"
     ]
    },
    {
     "name": "stderr",
     "output_type": "stream",
     "text": [
      "/home/mityajj/venv36/lib/python3.6/site-packages/sklearn/linear_model/base.py:340: RuntimeWarning: overflow encountered in exp\n",
      "  np.exp(prob, prob)\n"
     ]
    }
   ],
   "source": [
    "lr_pred_2_test = LogisticRegression().fit(\n",
    "    X_features_2[i_train],\n",
    "    y[i_train],\n",
    ").predict_proba(X_features_2[i_test])[:, 1]"
   ]
  },
  {
   "cell_type": "markdown",
   "metadata": {},
   "source": [
    "Concatenate train and test predictions:"
   ]
  },
  {
   "cell_type": "code",
   "execution_count": 23,
   "metadata": {},
   "outputs": [
    {
     "name": "stdout",
     "output_type": "stream",
     "text": [
      "time: 2.27 ms\n"
     ]
    }
   ],
   "source": [
    "lr_pred_1 = np.zeros_like(y)\n",
    "lr_pred_1[i_train] = lr_pred_1_train\n",
    "lr_pred_1[i_test] = lr_pred_1_test"
   ]
  },
  {
   "cell_type": "code",
   "execution_count": 24,
   "metadata": {},
   "outputs": [
    {
     "name": "stdout",
     "output_type": "stream",
     "text": [
      "time: 93.1 ms\n"
     ]
    }
   ],
   "source": [
    "lr_pred_2 = np.zeros_like(y)\n",
    "lr_pred_2[i_train] = lr_pred_2_train\n",
    "lr_pred_2[i_test] = lr_pred_2_test"
   ]
  },
  {
   "cell_type": "markdown",
   "metadata": {},
   "source": [
    "### LightGBM as a stacker"
   ]
  },
  {
   "cell_type": "code",
   "execution_count": 25,
   "metadata": {},
   "outputs": [
    {
     "name": "stdout",
     "output_type": "stream",
     "text": [
      "time: 98.4 ms\n"
     ]
    }
   ],
   "source": [
    "from lightgbm import LGBMClassifier"
   ]
  },
  {
   "cell_type": "markdown",
   "metadata": {},
   "source": [
    "One setup:"
   ]
  },
  {
   "cell_type": "code",
   "execution_count": 26,
   "metadata": {},
   "outputs": [
    {
     "name": "stdout",
     "output_type": "stream",
     "text": [
      "time: 91.6 ms\n"
     ]
    }
   ],
   "source": [
    "lgbm = LGBMClassifier(\n",
    "    n_estimators=80,\n",
    "    num_leaves=4,\n",
    "    reg_alpha=1e-6,\n",
    "    reg_lambda=0,\n",
    ")"
   ]
  },
  {
   "cell_type": "code",
   "execution_count": 27,
   "metadata": {},
   "outputs": [
    {
     "data": {
      "text/plain": [
       "0.9898380022637238"
      ]
     },
     "execution_count": 27,
     "metadata": {},
     "output_type": "execute_result"
    },
    {
     "name": "stdout",
     "output_type": "stream",
     "text": [
      "time: 514 ms\n"
     ]
    }
   ],
   "source": [
    "cross_val_score(\n",
    "    lgbm,\n",
    "    np.hstack([\n",
    "        X_features_1[i_train],\n",
    "        X_features_2[i_train],\n",
    "        lr_pred_1[:, None][i_train],\n",
    "        lr_pred_2[:, None][i_train],\n",
    "        nn_pred[:, None][i_train],\n",
    "    ]),\n",
    "    y[i_train],\n",
    "    scoring=\"roc_auc\",\n",
    "    cv=5,\n",
    ").mean()"
   ]
  },
  {
   "cell_type": "code",
   "execution_count": 28,
   "metadata": {},
   "outputs": [
    {
     "name": "stdout",
     "output_type": "stream",
     "text": [
      "time: 151 ms\n"
     ]
    }
   ],
   "source": [
    "lgbm.fit(\n",
    "    np.hstack([\n",
    "        X_features_1[i_train],\n",
    "        X_features_2[i_train],\n",
    "        lr_pred_1[:, None][i_train],\n",
    "        lr_pred_2[:, None][i_train],\n",
    "        nn_pred[:, None][i_train],\n",
    "    ]),\n",
    "    y[i_train],\n",
    ");"
   ]
  },
  {
   "cell_type": "code",
   "execution_count": 29,
   "metadata": {},
   "outputs": [
    {
     "name": "stdout",
     "output_type": "stream",
     "text": [
      "time: 34.2 ms\n"
     ]
    }
   ],
   "source": [
    "lgbm_pred_test = lgbm.predict_proba(\n",
    "    np.hstack([\n",
    "        X_features_1[i_test],\n",
    "        X_features_2[i_test],\n",
    "        lr_pred_1[:, None][i_test],\n",
    "        lr_pred_2[:, None][i_test],\n",
    "        nn_pred[:, None][i_test],\n",
    "    ]),\n",
    ")[:, 1]"
   ]
  },
  {
   "cell_type": "code",
   "execution_count": 30,
   "metadata": {},
   "outputs": [
    {
     "name": "stdout",
     "output_type": "stream",
     "text": [
      "time: 101 ms\n"
     ]
    }
   ],
   "source": [
    "pd.DataFrame({\n",
    "    \"Id\": names[i_test],\n",
    "    \"Attack\": lgbm_pred_test,\n",
    "})[[\"Id\", \"Attack\"]].to_csv(\"lgbm.9898.csv\", index=False)"
   ]
  },
  {
   "cell_type": "markdown",
   "metadata": {},
   "source": [
    "Another setup:"
   ]
  },
  {
   "cell_type": "code",
   "execution_count": 31,
   "metadata": {},
   "outputs": [
    {
     "name": "stdout",
     "output_type": "stream",
     "text": [
      "time: 135 ms\n"
     ]
    }
   ],
   "source": [
    "lgbm = LGBMClassifier(\n",
    "    n_estimators=350,\n",
    "    num_leaves=4,\n",
    "    reg_alpha=0,\n",
    "    reg_lambda=0,\n",
    ")"
   ]
  },
  {
   "cell_type": "code",
   "execution_count": 32,
   "metadata": {},
   "outputs": [
    {
     "data": {
      "text/plain": [
       "0.9841999151103564"
      ]
     },
     "execution_count": 32,
     "metadata": {},
     "output_type": "execute_result"
    },
    {
     "name": "stdout",
     "output_type": "stream",
     "text": [
      "time: 258 ms\n"
     ]
    }
   ],
   "source": [
    "cross_val_score(\n",
    "    lgbm,\n",
    "    np.hstack([\n",
    "#         X_features_1[i_train],\n",
    "#         X_features_2[i_train],\n",
    "        lr_pred_1[:, None][i_train],\n",
    "        lr_pred_2[:, None][i_train],\n",
    "        nn_pred[:, None][i_train],\n",
    "    ]),\n",
    "    y[i_train],\n",
    "    scoring=\"roc_auc\",\n",
    "    cv=5,\n",
    ").mean()"
   ]
  },
  {
   "cell_type": "code",
   "execution_count": 33,
   "metadata": {},
   "outputs": [
    {
     "name": "stdout",
     "output_type": "stream",
     "text": [
      "time: 127 ms\n"
     ]
    }
   ],
   "source": [
    "lgbm.fit(\n",
    "    np.hstack([\n",
    "#         X_features_1[i_train],\n",
    "#         X_features_2[i_train],\n",
    "        lr_pred_1[:, None][i_train],\n",
    "        lr_pred_2[:, None][i_train],\n",
    "        nn_pred[:, None][i_train],\n",
    "    ]),\n",
    "    y[i_train],\n",
    ");"
   ]
  },
  {
   "cell_type": "code",
   "execution_count": 34,
   "metadata": {},
   "outputs": [
    {
     "name": "stdout",
     "output_type": "stream",
     "text": [
      "time: 6.74 ms\n"
     ]
    }
   ],
   "source": [
    "lgbm_pred_test = lgbm.predict_proba(\n",
    "    np.hstack([\n",
    "#         X_features_1[i_test],\n",
    "#         X_features_2[i_test],\n",
    "        lr_pred_1[:, None][i_test],\n",
    "        lr_pred_2[:, None][i_test],\n",
    "        nn_pred[:, None][i_test],\n",
    "    ]),\n",
    ")[:, 1]"
   ]
  },
  {
   "cell_type": "code",
   "execution_count": 35,
   "metadata": {},
   "outputs": [
    {
     "name": "stdout",
     "output_type": "stream",
     "text": [
      "time: 109 ms\n"
     ]
    }
   ],
   "source": [
    "pd.DataFrame({\n",
    "    \"Id\": names[i_test],\n",
    "    \"Attack\": lgbm_pred_test,\n",
    "})[[\"Id\", \"Attack\"]].to_csv(\"lgbm.984.csv\", index=False)"
   ]
  },
  {
   "cell_type": "code",
   "execution_count": null,
   "metadata": {},
   "outputs": [],
   "source": []
  }
 ],
 "metadata": {
  "kernelspec": {
   "display_name": "Python 3",
   "language": "python",
   "name": "python3"
  },
  "language_info": {
   "codemirror_mode": {
    "name": "ipython",
    "version": 3
   },
   "file_extension": ".py",
   "mimetype": "text/x-python",
   "name": "python",
   "nbconvert_exporter": "python",
   "pygments_lexer": "ipython3",
   "version": "3.6.4"
  }
 },
 "nbformat": 4,
 "nbformat_minor": 2
}
