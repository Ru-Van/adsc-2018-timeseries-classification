{
 "cells": [
  {
   "cell_type": "markdown",
   "metadata": {},
   "source": [
    "# Setup"
   ]
  },
  {
   "cell_type": "code",
   "execution_count": 1,
   "metadata": {},
   "outputs": [],
   "source": [
    "%load_ext autotime"
   ]
  },
  {
   "cell_type": "code",
   "execution_count": 2,
   "metadata": {},
   "outputs": [
    {
     "name": "stdout",
     "output_type": "stream",
     "text": [
      "time: 99.4 ms\n"
     ]
    }
   ],
   "source": [
    "import pickle"
   ]
  },
  {
   "cell_type": "code",
   "execution_count": 3,
   "metadata": {},
   "outputs": [
    {
     "name": "stdout",
     "output_type": "stream",
     "text": [
      "time: 166 ms\n"
     ]
    }
   ],
   "source": [
    "import numpy as np\n",
    "from tqdm import tqdm_notebook"
   ]
  },
  {
   "cell_type": "markdown",
   "metadata": {},
   "source": [
    "# Load the data"
   ]
  },
  {
   "cell_type": "code",
   "execution_count": 4,
   "metadata": {},
   "outputs": [
    {
     "name": "stdout",
     "output_type": "stream",
     "text": [
      "time: 1.14 s\n"
     ]
    }
   ],
   "source": [
    "with open(\"data.pickle\", \"rb\") as f:\n",
    "    data = pickle.load(f)"
   ]
  },
  {
   "cell_type": "code",
   "execution_count": 5,
   "metadata": {},
   "outputs": [
    {
     "name": "stdout",
     "output_type": "stream",
     "text": [
      "time: 1.63 ms\n"
     ]
    }
   ],
   "source": [
    "X = data[\"X\"][:, 2:, :]\n",
    "y = data[\"y\"]\n",
    "names = data[\"names\"]"
   ]
  },
  {
   "cell_type": "markdown",
   "metadata": {},
   "source": [
    "N.b.: first two series of each observation are unused, as I found no useful patterns in them."
   ]
  },
  {
   "cell_type": "markdown",
   "metadata": {},
   "source": [
    "# Generate synthetic dataset"
   ]
  },
  {
   "cell_type": "markdown",
   "metadata": {},
   "source": [
    "## Negative observations"
   ]
  },
  {
   "cell_type": "markdown",
   "metadata": {},
   "source": [
    "(i.e. without anomalies)"
   ]
  },
  {
   "cell_type": "markdown",
   "metadata": {},
   "source": [
    "Selecting only clean (non-attacked) factories:"
   ]
  },
  {
   "cell_type": "code",
   "execution_count": 6,
   "metadata": {},
   "outputs": [
    {
     "name": "stdout",
     "output_type": "stream",
     "text": [
      "time: 504 ms\n"
     ]
    }
   ],
   "source": [
    "i_neg = np.where(y == 0)[0]\n",
    "X_neg = np.vstack(X[i_neg])"
   ]
  },
  {
   "cell_type": "markdown",
   "metadata": {},
   "source": [
    "Cut into chunks:"
   ]
  },
  {
   "cell_type": "code",
   "execution_count": 7,
   "metadata": {},
   "outputs": [
    {
     "name": "stdout",
     "output_type": "stream",
     "text": [
      "time: 3.78 ms\n"
     ]
    }
   ],
   "source": [
    "def generate_chunks(l, o):\n",
    "    chunks = []\n",
    "    start = 0\n",
    "    while start + l < X.shape[-1]:\n",
    "        chunks.append((start, start + l))\n",
    "        start += (l - o)\n",
    "    return chunks"
   ]
  },
  {
   "cell_type": "code",
   "execution_count": 8,
   "metadata": {},
   "outputs": [
    {
     "name": "stdout",
     "output_type": "stream",
     "text": [
      "time: 122 ms\n"
     ]
    }
   ],
   "source": [
    "CHUNK_LENGTH = 1000\n",
    "CHUNK_OVERLAP = 900"
   ]
  },
  {
   "cell_type": "code",
   "execution_count": 9,
   "metadata": {},
   "outputs": [
    {
     "name": "stdout",
     "output_type": "stream",
     "text": [
      "time: 106 ms\n"
     ]
    }
   ],
   "source": [
    "chunks = generate_chunks(CHUNK_LENGTH, CHUNK_OVERLAP)"
   ]
  },
  {
   "cell_type": "code",
   "execution_count": 10,
   "metadata": {},
   "outputs": [
    {
     "name": "stdout",
     "output_type": "stream",
     "text": [
      "time: 1.41 s\n"
     ]
    }
   ],
   "source": [
    "X_chunks = np.vstack([\n",
    "    X_neg[:, chunk[0]:chunk[1]]\n",
    "    for chunk in chunks\n",
    "])"
   ]
  },
  {
   "cell_type": "code",
   "execution_count": 11,
   "metadata": {},
   "outputs": [
    {
     "data": {
      "text/plain": [
       "409536"
      ]
     },
     "execution_count": 11,
     "metadata": {},
     "output_type": "execute_result"
    },
    {
     "name": "stdout",
     "output_type": "stream",
     "text": [
      "time: 10.9 ms\n"
     ]
    }
   ],
   "source": [
    "neg_size = X_chunks.shape[0]\n",
    "neg_size"
   ]
  },
  {
   "cell_type": "markdown",
   "metadata": {},
   "source": [
    "Save the negative part:"
   ]
  },
  {
   "cell_type": "code",
   "execution_count": 12,
   "metadata": {},
   "outputs": [
    {
     "name": "stdout",
     "output_type": "stream",
     "text": [
      "time: 48.2 s\n"
     ]
    }
   ],
   "source": [
    "file_name_neg = f\"chunks_neg_{CHUNK_LENGTH}_{CHUNK_OVERLAP}.pickle\"\n",
    "\n",
    "with open(file_name_neg, \"wb\") as f:\n",
    "    pickle.dump(X_chunks, f)"
   ]
  },
  {
   "cell_type": "code",
   "execution_count": 13,
   "metadata": {},
   "outputs": [
    {
     "name": "stdout",
     "output_type": "stream",
     "text": [
      "-rw-r--r-- 1 mityajj mityajj 3.1G Feb 21 00:26 chunks_neg_1000_900.pickle\n",
      "time: 190 ms\n"
     ]
    }
   ],
   "source": [
    "! ls -lh $file_name_neg"
   ]
  },
  {
   "cell_type": "markdown",
   "metadata": {},
   "source": [
    "## Positive observations"
   ]
  },
  {
   "cell_type": "markdown",
   "metadata": {},
   "source": [
    "(i.e. with anomalies)"
   ]
  },
  {
   "cell_type": "markdown",
   "metadata": {},
   "source": [
    "Adding random patterns like ones found by EDA."
   ]
  },
  {
   "cell_type": "markdown",
   "metadata": {},
   "source": [
    "### Peaks"
   ]
  },
  {
   "cell_type": "code",
   "execution_count": 14,
   "metadata": {},
   "outputs": [
    {
     "name": "stdout",
     "output_type": "stream",
     "text": [
      "time: 2.04 s\n"
     ]
    }
   ],
   "source": [
    "def add_peak(x):\n",
    "\n",
    "    if np.abs(x.mean()) <= x.std():\n",
    "        v = np.random.uniform(-50, 50, 1)[0]\n",
    "    else:\n",
    "        v = 0\n",
    "\n",
    "    length = np.random.choice([3, 4, 5])\n",
    "    pos = np.random.choice(range(len(x) - length - 1))\n",
    "\n",
    "    x[pos:(pos + length)] = v\n",
    "\n",
    "    return True"
   ]
  },
  {
   "cell_type": "markdown",
   "metadata": {},
   "source": [
    "### Noises"
   ]
  },
  {
   "cell_type": "code",
   "execution_count": 15,
   "metadata": {},
   "outputs": [
    {
     "name": "stdout",
     "output_type": "stream",
     "text": [
      "time: 107 ms\n"
     ]
    }
   ],
   "source": [
    "def add_noise(x):\n",
    "\n",
    "    size = np.random.uniform(low=10, high=50)\n",
    "    mean = x.mean()\n",
    "\n",
    "    if x.std() > 0.01:\n",
    "        size = size * x.std()\n",
    "\n",
    "    pos = np.random.choice(range(len(x)))\n",
    "    width = int(np.random.uniform(low=100, high=800))\n",
    "    is_start = bool(np.random.binomial(1, 0.5))\n",
    "\n",
    "    if is_start:\n",
    "        pos_start = pos\n",
    "        pos_end = pos + width\n",
    "    else:\n",
    "        pos_start = pos - width\n",
    "        pos_end = pos\n",
    "\n",
    "    if pos_start < 0:\n",
    "        pos_start = 0\n",
    "    if pos_end > len(x):\n",
    "        pos_end = len(x)\n",
    "\n",
    "    if pos_end - pos_start < 100:\n",
    "        return False\n",
    "\n",
    "    x[pos_start:pos_end] = np.random.uniform(\n",
    "        mean - size / 2,\n",
    "        mean + size / 2,\n",
    "        pos_end - pos_start,\n",
    "    )\n",
    "\n",
    "    return True"
   ]
  },
  {
   "cell_type": "markdown",
   "metadata": {},
   "source": [
    "### Constants"
   ]
  },
  {
   "cell_type": "code",
   "execution_count": 16,
   "metadata": {},
   "outputs": [
    {
     "name": "stdout",
     "output_type": "stream",
     "text": [
      "time: 118 ms\n"
     ]
    }
   ],
   "source": [
    "def add_constant(x):\n",
    "\n",
    "    if np.unique(x).shape[0] == 1:\n",
    "        return False\n",
    "\n",
    "    pos = np.random.choice(range(len(x)))\n",
    "    width = int(np.random.uniform(low=100, high=300))\n",
    "    is_start = bool(np.random.binomial(1, 0.5))\n",
    "\n",
    "    if is_start:\n",
    "        pos_start = pos\n",
    "        pos_end = pos + width\n",
    "    else:\n",
    "        pos_start = pos - width\n",
    "        pos_end = pos\n",
    "\n",
    "    if pos_start < 0:\n",
    "        pos_start = 0\n",
    "    if pos_end > len(x):\n",
    "        pos_end = len(x)\n",
    "\n",
    "    if pos_end - pos_start < 100:\n",
    "        return False\n",
    "\n",
    "    x[pos_start:pos_end] = x[pos_start]\n",
    "\n",
    "    return True"
   ]
  },
  {
   "cell_type": "markdown",
   "metadata": {},
   "source": [
    "### \"Special cases\""
   ]
  },
  {
   "cell_type": "code",
   "execution_count": 17,
   "metadata": {},
   "outputs": [
    {
     "name": "stdout",
     "output_type": "stream",
     "text": [
      "time: 134 ms\n"
     ]
    }
   ],
   "source": [
    "def add_special_case(x):\n",
    "\n",
    "    if np.abs(x.mean()) <= x.std() or x.mean() < 0:\n",
    "        return False\n",
    "\n",
    "    pos = np.random.choice(range(len(x)))\n",
    "    width = int(np.random.uniform(low=300, high=800))\n",
    "    is_start = bool(np.random.binomial(1, 0.5))\n",
    "\n",
    "    if is_start:\n",
    "        pos_start = pos\n",
    "        pos_end = pos + width\n",
    "    else:\n",
    "        pos_start = pos - width\n",
    "        pos_end = pos\n",
    "\n",
    "    if pos_start < 0:\n",
    "        pos_start = 0\n",
    "    if pos_end > len(x):\n",
    "        pos_end = len(x)\n",
    "\n",
    "    if pos_end - pos_start < 100:\n",
    "        return False\n",
    "\n",
    "    insert = np.zeros(pos_end - pos_start)\n",
    "    n_peaks = int(np.random.uniform(10, 20))\n",
    "    peaks_pos = np.random.choice(range(len(insert)), size=n_peaks)\n",
    "    insert[peaks_pos] = np.random.uniform(low=0, high=x.mean(), size=len(peaks_pos))\n",
    "\n",
    "    x[pos_start:pos_end] = insert\n",
    "\n",
    "    return True"
   ]
  },
  {
   "cell_type": "markdown",
   "metadata": {},
   "source": [
    "### Randomly apply to chunks"
   ]
  },
  {
   "cell_type": "code",
   "execution_count": 18,
   "metadata": {},
   "outputs": [
    {
     "data": {
      "application/vnd.jupyter.widget-view+json": {
       "model_id": "0352e66f1ed144a19e2a2c62ba699146",
       "version_major": 2,
       "version_minor": 0
      },
      "text/html": [
       "<p>Failed to display Jupyter Widget of type <code>HBox</code>.</p>\n",
       "<p>\n",
       "  If you're reading this message in the Jupyter Notebook or JupyterLab Notebook, it may mean\n",
       "  that the widgets JavaScript is still loading. If this message persists, it\n",
       "  likely means that the widgets JavaScript library is either not installed or\n",
       "  not enabled. See the <a href=\"https://ipywidgets.readthedocs.io/en/stable/user_install.html\">Jupyter\n",
       "  Widgets Documentation</a> for setup instructions.\n",
       "</p>\n",
       "<p>\n",
       "  If you're reading this message in another frontend (for example, a static\n",
       "  rendering on GitHub or <a href=\"https://nbviewer.jupyter.org/\">NBViewer</a>),\n",
       "  it may mean that your frontend doesn't currently support widgets.\n",
       "</p>\n"
      ],
      "text/plain": [
       "HBox(children=(IntProgress(value=0, max=409536), HTML(value='')))"
      ]
     },
     "metadata": {},
     "output_type": "display_data"
    },
    {
     "name": "stdout",
     "output_type": "stream",
     "text": [
      "\n",
      "time: 1min 56s\n"
     ]
    }
   ],
   "source": [
    "fs = [add_peak, add_noise, add_constant, add_special_case]\n",
    "\n",
    "for i in tqdm_notebook(range(X_chunks.shape[0])):\n",
    "    while True:\n",
    "        f = np.random.choice(fs, size=1)[0]\n",
    "        if f(X_chunks[i]):\n",
    "            break"
   ]
  },
  {
   "cell_type": "markdown",
   "metadata": {},
   "source": [
    "Save the positive part:"
   ]
  },
  {
   "cell_type": "code",
   "execution_count": 19,
   "metadata": {},
   "outputs": [
    {
     "name": "stdout",
     "output_type": "stream",
     "text": [
      "time: 49 s\n"
     ]
    }
   ],
   "source": [
    "file_name_pos = f\"chunks_pos_{CHUNK_LENGTH}_{CHUNK_OVERLAP}.pickle\"\n",
    "\n",
    "with open(file_name_pos, \"wb\") as f:\n",
    "    pickle.dump(X_chunks, f)"
   ]
  },
  {
   "cell_type": "code",
   "execution_count": 20,
   "metadata": {},
   "outputs": [
    {
     "name": "stdout",
     "output_type": "stream",
     "text": [
      "-rw-r--r-- 1 mityajj mityajj 3.1G Feb 21 00:29 chunks_pos_1000_900.pickle\n",
      "time: 190 ms\n"
     ]
    }
   ],
   "source": [
    "! ls -lh $file_name_pos"
   ]
  },
  {
   "cell_type": "code",
   "execution_count": null,
   "metadata": {},
   "outputs": [],
   "source": []
  }
 ],
 "metadata": {
  "kernelspec": {
   "display_name": "Python 3",
   "language": "python",
   "name": "python3"
  },
  "language_info": {
   "codemirror_mode": {
    "name": "ipython",
    "version": 3
   },
   "file_extension": ".py",
   "mimetype": "text/x-python",
   "name": "python",
   "nbconvert_exporter": "python",
   "pygments_lexer": "ipython3",
   "version": "3.6.4"
  }
 },
 "nbformat": 4,
 "nbformat_minor": 2
}
